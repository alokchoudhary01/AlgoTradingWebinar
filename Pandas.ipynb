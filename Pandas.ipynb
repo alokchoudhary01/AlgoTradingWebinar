{
 "cells": [
  {
   "cell_type": "code",
   "execution_count": 13,
   "metadata": {},
   "outputs": [],
   "source": [
    "import pandas as pd"
   ]
  },
  {
   "cell_type": "code",
   "execution_count": 16,
   "metadata": {},
   "outputs": [],
   "source": [
    "filename = 'nifty.csv'"
   ]
  },
  {
   "cell_type": "code",
   "execution_count": 10,
   "metadata": {},
   "outputs": [],
   "source": [
    "data = pd.read_csv(filename)"
   ]
  },
  {
   "cell_type": "code",
   "execution_count": 17,
   "metadata": {},
   "outputs": [
    {
     "data": {
      "text/html": [
       "<div>\n",
       "<style scoped>\n",
       "    .dataframe tbody tr th:only-of-type {\n",
       "        vertical-align: middle;\n",
       "    }\n",
       "\n",
       "    .dataframe tbody tr th {\n",
       "        vertical-align: top;\n",
       "    }\n",
       "\n",
       "    .dataframe thead th {\n",
       "        text-align: right;\n",
       "    }\n",
       "</style>\n",
       "<table border=\"1\" class=\"dataframe\">\n",
       "  <thead>\n",
       "    <tr style=\"text-align: right;\">\n",
       "      <th></th>\n",
       "      <th>Date</th>\n",
       "      <th>Open</th>\n",
       "      <th>High</th>\n",
       "      <th>Low</th>\n",
       "      <th>Close</th>\n",
       "    </tr>\n",
       "  </thead>\n",
       "  <tbody>\n",
       "    <tr>\n",
       "      <th>2969</th>\n",
       "      <td>07 Apr 2008</td>\n",
       "      <td>4631.35</td>\n",
       "      <td>4798.55</td>\n",
       "      <td>4628.80</td>\n",
       "      <td>4761.20</td>\n",
       "    </tr>\n",
       "    <tr>\n",
       "      <th>2970</th>\n",
       "      <td>04 Apr 2008</td>\n",
       "      <td>4766.70</td>\n",
       "      <td>4791.70</td>\n",
       "      <td>4632.70</td>\n",
       "      <td>4647.00</td>\n",
       "    </tr>\n",
       "    <tr>\n",
       "      <th>2971</th>\n",
       "      <td>03 Apr 2008</td>\n",
       "      <td>4753.90</td>\n",
       "      <td>4833.25</td>\n",
       "      <td>4738.20</td>\n",
       "      <td>4771.60</td>\n",
       "    </tr>\n",
       "    <tr>\n",
       "      <th>2972</th>\n",
       "      <td>02 Apr 2008</td>\n",
       "      <td>4741.40</td>\n",
       "      <td>4916.75</td>\n",
       "      <td>4741.40</td>\n",
       "      <td>4754.20</td>\n",
       "    </tr>\n",
       "    <tr>\n",
       "      <th>2973</th>\n",
       "      <td>01 Apr 2008</td>\n",
       "      <td>4735.65</td>\n",
       "      <td>4800.75</td>\n",
       "      <td>4628.75</td>\n",
       "      <td>4739.55</td>\n",
       "    </tr>\n",
       "  </tbody>\n",
       "</table>\n",
       "</div>"
      ],
      "text/plain": [
       "             Date     Open     High      Low    Close\n",
       "2969  07 Apr 2008  4631.35  4798.55  4628.80  4761.20\n",
       "2970  04 Apr 2008  4766.70  4791.70  4632.70  4647.00\n",
       "2971  03 Apr 2008  4753.90  4833.25  4738.20  4771.60\n",
       "2972  02 Apr 2008  4741.40  4916.75  4741.40  4754.20\n",
       "2973  01 Apr 2008  4735.65  4800.75  4628.75  4739.55"
      ]
     },
     "execution_count": 17,
     "metadata": {},
     "output_type": "execute_result"
    }
   ],
   "source": [
    "data.tail()"
   ]
  },
  {
   "cell_type": "code",
   "execution_count": 18,
   "metadata": {},
   "outputs": [
    {
     "data": {
      "text/html": [
       "<div>\n",
       "<style scoped>\n",
       "    .dataframe tbody tr th:only-of-type {\n",
       "        vertical-align: middle;\n",
       "    }\n",
       "\n",
       "    .dataframe tbody tr th {\n",
       "        vertical-align: top;\n",
       "    }\n",
       "\n",
       "    .dataframe thead th {\n",
       "        text-align: right;\n",
       "    }\n",
       "</style>\n",
       "<table border=\"1\" class=\"dataframe\">\n",
       "  <thead>\n",
       "    <tr style=\"text-align: right;\">\n",
       "      <th></th>\n",
       "      <th>Date</th>\n",
       "      <th>Open</th>\n",
       "      <th>High</th>\n",
       "      <th>Low</th>\n",
       "      <th>Close</th>\n",
       "    </tr>\n",
       "  </thead>\n",
       "  <tbody>\n",
       "    <tr>\n",
       "      <th>0</th>\n",
       "      <td>09 Apr 2020</td>\n",
       "      <td>8973.05</td>\n",
       "      <td>9128.35</td>\n",
       "      <td>8904.55</td>\n",
       "      <td>9111.90</td>\n",
       "    </tr>\n",
       "    <tr>\n",
       "      <th>1</th>\n",
       "      <td>08 Apr 2020</td>\n",
       "      <td>8688.90</td>\n",
       "      <td>9131.70</td>\n",
       "      <td>8653.90</td>\n",
       "      <td>8748.75</td>\n",
       "    </tr>\n",
       "    <tr>\n",
       "      <th>2</th>\n",
       "      <td>07 Apr 2020</td>\n",
       "      <td>8446.30</td>\n",
       "      <td>8819.40</td>\n",
       "      <td>8360.95</td>\n",
       "      <td>8792.20</td>\n",
       "    </tr>\n",
       "    <tr>\n",
       "      <th>3</th>\n",
       "      <td>03 Apr 2020</td>\n",
       "      <td>8356.55</td>\n",
       "      <td>8356.55</td>\n",
       "      <td>8055.80</td>\n",
       "      <td>8083.80</td>\n",
       "    </tr>\n",
       "    <tr>\n",
       "      <th>4</th>\n",
       "      <td>01 Apr 2020</td>\n",
       "      <td>8584.10</td>\n",
       "      <td>8588.10</td>\n",
       "      <td>8198.35</td>\n",
       "      <td>8253.80</td>\n",
       "    </tr>\n",
       "  </tbody>\n",
       "</table>\n",
       "</div>"
      ],
      "text/plain": [
       "          Date     Open     High      Low    Close\n",
       "0  09 Apr 2020  8973.05  9128.35  8904.55  9111.90\n",
       "1  08 Apr 2020  8688.90  9131.70  8653.90  8748.75\n",
       "2  07 Apr 2020  8446.30  8819.40  8360.95  8792.20\n",
       "3  03 Apr 2020  8356.55  8356.55  8055.80  8083.80\n",
       "4  01 Apr 2020  8584.10  8588.10  8198.35  8253.80"
      ]
     },
     "execution_count": 18,
     "metadata": {},
     "output_type": "execute_result"
    }
   ],
   "source": [
    "data.head()"
   ]
  },
  {
   "cell_type": "code",
   "execution_count": null,
   "metadata": {},
   "outputs": [],
   "source": []
  }
 ],
 "metadata": {
  "kernelspec": {
   "display_name": "Python 3",
   "language": "python",
   "name": "python3"
  },
  "language_info": {
   "codemirror_mode": {
    "name": "ipython",
    "version": 3
   },
   "file_extension": ".py",
   "mimetype": "text/x-python",
   "name": "python",
   "nbconvert_exporter": "python",
   "pygments_lexer": "ipython3",
   "version": "3.7.3"
  }
 },
 "nbformat": 4,
 "nbformat_minor": 2
}
