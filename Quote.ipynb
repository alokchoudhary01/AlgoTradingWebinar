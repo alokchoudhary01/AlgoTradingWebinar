{
 "cells": [
  {
   "cell_type": "code",
   "execution_count": 9,
   "metadata": {},
   "outputs": [
    {
     "name": "stdout",
     "output_type": "stream",
     "text": [
      "Driver Class for National Stock Exchange (NSE)\n",
      "{'change': 363.15,\n",
      " 'imgFileName': 'NIFTY_50_open.png',\n",
      " 'lastPrice': 9111.9,\n",
      " 'name': 'NIFTY 50',\n",
      " 'pChange': 4.15}\n",
      "{'change': 967.15,\n",
      " 'imgFileName': 'NIFTY_BANK_open.png',\n",
      " 'lastPrice': 19913.6,\n",
      " 'name': 'NIFTY BANK',\n",
      " 'pChange': 5.1}\n"
     ]
    }
   ],
   "source": []
  },
  {
   "cell_type": "code",
   "execution_count": null,
   "metadata": {},
   "outputs": [],
   "source": []
  }
 ],
 "metadata": {
  "kernelspec": {
   "display_name": "Python 3",
   "language": "python",
   "name": "python3"
  },
  "language_info": {
   "codemirror_mode": {
    "name": "ipython",
    "version": 3
   },
   "file_extension": ".py",
   "mimetype": "text/x-python",
   "name": "python",
   "nbconvert_exporter": "python",
   "pygments_lexer": "ipython3",
   "version": "3.7.3"
  }
 },
 "nbformat": 4,
 "nbformat_minor": 2
}
